{
 "cells": [
  {
   "cell_type": "code",
   "execution_count": 1,
   "metadata": {},
   "outputs": [
    {
     "name": "stdout",
     "output_type": "stream",
     "text": [
      "['C:\\\\Users\\\\DionWebster\\\\OneDrive - thefreshwatertrust.org\\\\Documents\\\\ArcGIS\\\\Projects\\\\Field NVDI\\\\SentinelRasters\\\\S2A_MSIL1C_20210721T185921_N0301_R013_T10TDM_20210721T230008.SAFE\\\\GRANULE\\\\L1C_T10TDM_A031756_20210721T190557\\\\IMG_DATA\\\\T10TDM_20210721T185921_B01.jp2']\n",
      "rasters list complete \n",
      "C:\\Users\\DionWebster\\OneDrive - thefreshwatertrust.org\\Documents\\ArcGIS\\Projects\\Field NVDI\\SentinelRasters\\S2A_MSIL1C_20210721T185921_N0301_R013_T10TDM_20210721T230008.SAFE\\GRANULE\\L1C_T10TDM_A031756_20210721T190557\\IMG_DATA\\T10TDM_20210721T185921_B04.jp2\n",
      "C:\\Users\\DionWebster\\OneDrive - thefreshwatertrust.org\\Documents\\ArcGIS\\Projects\\Field NVDI\\SentinelRasters\\S2A_MSIL1C_20210721T185921_N0301_R013_T10TDM_20210721T230008.SAFE\\GRANULE\\L1C_T10TDM_A031756_20210721T190557\\IMG_DATA\\T10TDM_20210721T185921_B05.jp2\n",
      "C:\\Users\\DionWebster\\OneDrive - thefreshwatertrust.org\\Documents\\ArcGIS\\Projects\\Field NVDI\\SentinelRasters\\S2A_MSIL1C_20210721T185921_N0301_R013_T10TDM_20210721T230008.SAFE\\GRANULE\\L1C_T10TDM_A031756_20210721T190557\\IMG_DATA\\T10TDM_20210721T185921_B08.jp2\n",
      "hmmm\n",
      "['C:\\\\Users\\\\DionWebster\\\\OneDrive - thefreshwatertrust.org\\\\Documents\\\\ArcGIS\\\\Projects\\\\Field NVDI\\\\SentinelRasters\\\\S2A_MSIL1C_20210721T185921_N0301_R013_T10TEM_20210721T230008.SAFE\\\\GRANULE\\\\L1C_T10TEM_A031756_20210721T190557\\\\IMG_DATA\\\\T10TEM_20210721T185921_B01.jp2']\n",
      "rasters list complete \n",
      "C:\\Users\\DionWebster\\OneDrive - thefreshwatertrust.org\\Documents\\ArcGIS\\Projects\\Field NVDI\\SentinelRasters\\S2A_MSIL1C_20210721T185921_N0301_R013_T10TEM_20210721T230008.SAFE\\GRANULE\\L1C_T10TEM_A031756_20210721T190557\\IMG_DATA\\T10TEM_20210721T185921_B04.jp2\n",
      "C:\\Users\\DionWebster\\OneDrive - thefreshwatertrust.org\\Documents\\ArcGIS\\Projects\\Field NVDI\\SentinelRasters\\S2A_MSIL1C_20210721T185921_N0301_R013_T10TEM_20210721T230008.SAFE\\GRANULE\\L1C_T10TEM_A031756_20210721T190557\\IMG_DATA\\T10TEM_20210721T185921_B05.jp2\n",
      "C:\\Users\\DionWebster\\OneDrive - thefreshwatertrust.org\\Documents\\ArcGIS\\Projects\\Field NVDI\\SentinelRasters\\S2A_MSIL1C_20210721T185921_N0301_R013_T10TEM_20210721T230008.SAFE\\GRANULE\\L1C_T10TEM_A031756_20210721T190557\\IMG_DATA\\T10TEM_20210721T185921_B08.jp2\n",
      "hmmm\n",
      "['C:\\\\Users\\\\DionWebster\\\\OneDrive - thefreshwatertrust.org\\\\Documents\\\\ArcGIS\\\\Projects\\\\Field NVDI\\\\SentinelRasters\\\\S2A_MSIL1C_20210721T185921_N0301_R013_T10TEN_20210721T230008.SAFE\\\\GRANULE\\\\L1C_T10TEN_A031756_20210721T190557\\\\IMG_DATA\\\\T10TEN_20210721T185921_B01.jp2']\n",
      "rasters list complete \n",
      "C:\\Users\\DionWebster\\OneDrive - thefreshwatertrust.org\\Documents\\ArcGIS\\Projects\\Field NVDI\\SentinelRasters\\S2A_MSIL1C_20210721T185921_N0301_R013_T10TEN_20210721T230008.SAFE\\GRANULE\\L1C_T10TEN_A031756_20210721T190557\\IMG_DATA\\T10TEN_20210721T185921_B04.jp2\n",
      "C:\\Users\\DionWebster\\OneDrive - thefreshwatertrust.org\\Documents\\ArcGIS\\Projects\\Field NVDI\\SentinelRasters\\S2A_MSIL1C_20210721T185921_N0301_R013_T10TEN_20210721T230008.SAFE\\GRANULE\\L1C_T10TEN_A031756_20210721T190557\\IMG_DATA\\T10TEN_20210721T185921_B05.jp2\n",
      "C:\\Users\\DionWebster\\OneDrive - thefreshwatertrust.org\\Documents\\ArcGIS\\Projects\\Field NVDI\\SentinelRasters\\S2A_MSIL1C_20210721T185921_N0301_R013_T10TEN_20210721T230008.SAFE\\GRANULE\\L1C_T10TEN_A031756_20210721T190557\\IMG_DATA\\T10TEN_20210721T185921_B08.jp2\n",
      "hmmm\n",
      "['C:\\\\Users\\\\DionWebster\\\\OneDrive - thefreshwatertrust.org\\\\Documents\\\\ArcGIS\\\\Projects\\\\Field NVDI\\\\SentinelRasters\\\\S2B_MSIL1C_20210716T185919_N0301_R013_T10TDN_20210716T211104.SAFE\\\\GRANULE\\\\L1C_T10TDN_A022776_20210716T190844\\\\IMG_DATA\\\\T10TDN_20210716T185919_B01.jp2']\n",
      "rasters list complete \n",
      "C:\\Users\\DionWebster\\OneDrive - thefreshwatertrust.org\\Documents\\ArcGIS\\Projects\\Field NVDI\\SentinelRasters\\S2B_MSIL1C_20210716T185919_N0301_R013_T10TDN_20210716T211104.SAFE\\GRANULE\\L1C_T10TDN_A022776_20210716T190844\\IMG_DATA\\T10TDN_20210716T185919_B04.jp2\n",
      "C:\\Users\\DionWebster\\OneDrive - thefreshwatertrust.org\\Documents\\ArcGIS\\Projects\\Field NVDI\\SentinelRasters\\S2B_MSIL1C_20210716T185919_N0301_R013_T10TDN_20210716T211104.SAFE\\GRANULE\\L1C_T10TDN_A022776_20210716T190844\\IMG_DATA\\T10TDN_20210716T185919_B05.jp2\n",
      "C:\\Users\\DionWebster\\OneDrive - thefreshwatertrust.org\\Documents\\ArcGIS\\Projects\\Field NVDI\\SentinelRasters\\S2B_MSIL1C_20210716T185919_N0301_R013_T10TDN_20210716T211104.SAFE\\GRANULE\\L1C_T10TDN_A022776_20210716T190844\\IMG_DATA\\T10TDN_20210716T185919_B08.jp2\n",
      "hmmm\n"
     ]
    },
    {
     "ename": "NameError",
     "evalue": "name 'arcpyListFields' is not defined",
     "output_type": "error",
     "traceback": [
      "\u001b[0;31m---------------------------------------------------------------------------\u001b[0m\n\u001b[0;31mNameError\u001b[0m                                 Traceback (most recent call last)",
      "In  \u001b[0;34m[1]\u001b[0m:\nLine \u001b[0;34m46\u001b[0m:    listfields = arcpyListFields(fields)\n",
      "\u001b[0;31mNameError\u001b[0m: name 'arcpyListFields' is not defined\n\u001b[0;31m---------------------------------------------------------------------------\u001b[0m"
     ]
    }
   ],
   "source": [
    "import os, glob, arcpy\n",
    "list_composites = []\n",
    "list_NDVIs = []\n",
    "fields = \"POU_updatedDW\" #if polygons are on map, just put the feature_name as a string\n",
    "RasterOutputLocation = r'C:\\Users\\DionWebster\\OneDrive - thefreshwatertrust.org\\Documents\\ArcGIS\\Projects\\Field NVDI\\OutputRasters' #where you want to output the final raster\n",
    "ZonalOutputFile = r\"C:\\Users\\DionWebster\\OneDrive - thefreshwatertrust.org\\Documents\\ArcGIS\\Projects\\Field NVDI\\Field NVDI.gdb\\stats\" #must be GDB\n",
    "mosaic = RasterOutputLocation + '\\mosaic.tif'\n",
    "directory = r'C:\\Users\\DionWebster\\OneDrive - thefreshwatertrust.org\\Documents\\ArcGIS\\Projects\\Field NVDI\\SentinelRasters'\n",
    "SentinelFolderList = next(os.walk(directory))[1] # list all sentinel folders \n",
    "for work in SentinelFolderList: #loop creates a list of B01.jp2 path names\n",
    "    directory2 = os.path.join(directory, work)\n",
    "    list_images = glob.glob(directory2 + '*\\GRANULE\\*\\IMG_DATA\\*B01.jp2')\n",
    "    print(list_images)\n",
    "    #for each file with B01.jp2 we loop through and create single string per image and a list\n",
    "    for image in list_images:\n",
    "        rasters = glob.glob(image[:-6]+\"*\")\n",
    "        print('rasters list complete ')\n",
    "        for d in rasters:\n",
    "            if d is rasters[3]:\n",
    "                print(d)\n",
    "                red = d\n",
    "            elif d is rasters[4]:\n",
    "                print(d)\n",
    "                VegRedEdge = d\n",
    "            elif d is rasters[7]:\n",
    "                print(d)\n",
    "                NIR = d\n",
    "                #makes raster\n",
    "                NDVIraster = arcpy.sa.RasterCalculator([red,NIR],['red','NIR'],'(NIR-red)/(NIR+red)')\n",
    "                NDVIraster.save(image[:-6]+\"NDVI.tif\")\n",
    "                list_NDVIs.append(image[:-6]+\"NDVI.tif\")\n",
    "            else:\n",
    "                try:\n",
    "                    os.remove(d)\n",
    "                except OSError:\n",
    "                    print('error deleting ' + d)\n",
    "        print('hmmm')\n",
    "#Mosaic Rasters together\n",
    "arcpy.management.MosaicToNewRaster(list_NDVIs, RasterOutputLocation, \"mosaic.tif\", None, \"32_BIT_FLOAT\", None, 1, \"LAST\", \"FIRST\")\n",
    "#table zonal statistics (mean)\n",
    "with arcpy.EnvManager(outputCoordinateSystem='PROJCS[\"NAD_1983_Oregon_Statewide_Lambert_Feet_Intl\",GEOGCS[\"GCS_North_American_1983\",DATUM[\"D_North_American_1983\",SPHEROID[\"GRS_1980\",6378137.0,298.257222101]],PRIMEM[\"Greenwich\",0.0],UNIT[\"Degree\",0.0174532925199433]],PROJECTION[\"Lambert_Conformal_Conic\"],PARAMETER[\"False_Easting\",1312335.958005249],PARAMETER[\"False_Northing\",0.0],PARAMETER[\"Central_Meridian\",-120.5],PARAMETER[\"Standard_Parallel_1\",43.0],PARAMETER[\"Standard_Parallel_2\",45.5],PARAMETER[\"Latitude_Of_Origin\",41.75],UNIT[\"Foot\",0.3048]]'):\n",
    "    arcpy.ia.ZonalStatisticsAsTable(fields, \"snp_id\", mosaic, ZonalOutputFile, \"DATA\", \"MEAN\", \"CURRENT_SLICE\", 90, \"AUTO_DETECT\")\n",
    "#rename MEAN field\n",
    "arcpy.AlterField_management(ZonalOutputFile, 'MEAN', 'NDVI_Mean','NDVI_Mean') \n",
    "#Addfield to shapfile\n",
    "listfields = arcpyListFields(fields)\n",
    "fieldnames = [f.name for f in ListFields]\n",
    "if 'NDVI_Mean' in fieldnames:\n",
    "    arcpy.management.DeleteField(fields,\"NDVI_Mean\")\n",
    "    arcpy.management.AddField(fields,'NDVI_Mean','LONG')\n",
    "    arcpy.management.AddJoin(fields, \"snp_id\", \"ZonalSt_POU_upd1\", \"snp_id\", \"KEEP_ALL\")\n",
    "else:\n",
    "    print('doesnt exist... Adding field')\n",
    "    arcpy.management.AddField(fields,'NDVI_Mean','LONG')\n",
    "    arcpy.management.AddJoin(fields, \"snp_id\", \"ZonalSt_POU_upd1\", \"snp_id\", \"KEEP_ALL\")\n",
    "print('job complete')"
   ]
  },
  {
   "cell_type": "code",
   "execution_count": 22,
   "metadata": {},
   "outputs": [
    {
     "name": "stdout",
     "output_type": "stream",
     "text": [
      "job complete\n"
     ]
    }
   ],
   "source": [
    "fieldnames = [f.name for f in ListFields]\n",
    "if 'NDVI_Mean' in fieldnames:\n",
    "    arcpy.management.DeleteField(fields,\"NDVI_Mean\")\n",
    "    arcpy.management.AddField(fields,'NDVI_Mean','LONG')\n",
    "    arcpy.management.AddJoin(fields, \"snp_id\", \"ZonalSt_POU_upd1\", \"snp_id\", \"KEEP_ALL\")\n",
    "else:\n",
    "    print('doesnt exist... Adding field')\n",
    "    arcpy.management.AddField(fields,'NDVI_Mean','LONG')\n",
    "    arcpy.management.AddJoin(fields, \"snp_id\", \"ZonalSt_POU_upd1\", \"snp_id\", \"KEEP_ALL\")\n",
    "print('job complete')"
   ]
  },
  {
   "cell_type": "code",
   "execution_count": 21,
   "metadata": {},
   "outputs": [
    {
     "name": "stdout",
     "output_type": "stream",
     "text": [
      "yes\n"
     ]
    }
   ],
   "source": [
    "fields = 'POU_updated selection 1'\n",
    "ListFields = arcpy.ListFields(fields)\n",
    "fieldnames = [f.name for f in ListFields]\n",
    "if 'NDVI_Mean' in fieldnames:\n",
    "    print('yes')\n",
    "else:\n",
    "    print('no')\n",
    "#for field in ListFields:\n",
    "#    print('{0}'.format(field.name))"
   ]
  },
  {
   "cell_type": "code",
   "execution_count": 1,
   "metadata": {},
   "outputs": [],
   "source": [
    "\n",
    "import os, glob, arcpy\n",
    "list_composites = []\n",
    "list_NDVIs = []\n",
    "fields = \"POU_updated selection 1\" #if polygons are on map, just put the feature_name as a string\n",
    "RasterOutputLocation = r'C:\\Users\\DionWebster\\OneDrive - thefreshwatertrust.org\\Documents\\ArcGIS\\Projects\\Field NVDI\\OutputRasters' #where you want to output the final raster\n",
    "ZonalOutputFile = r\"C:\\Users\\DionWebster\\OneDrive - thefreshwatertrust.org\\Documents\\ArcGIS\\Projects\\Field NVDI\\Field NVDI.gdb\\stats\" #must be GDB\n",
    "mosaic = outputlocation + '\\mosaic.tif'\n",
    "#directory = r'C:\\Users\\DionWebster\\OneDrive - thefreshwatertrust.org\\Documents\\ArcGIS\\Projects\\Field NVDI\\SentinelRasters\\S2A_MSIL1C_20210721T185921_N0301_R013_T10TEM_20210721T230008.SAFE\\GRANULE\\L1C_T10TEM_A031756_20210721T190557\\IMG_DATA'\n",
    "#list images with B01.jp2\n",
    "#list_images = glob.glob(r'C:\\Users\\DionWebster\\OneDrive - thefreshwatertrust.org\\Documents\\ArcGIS\\Projects\\Field NVDI\\SentinelRasters\\*\\GRANULE\\*\\IMG_DATA\\*b01.jp2')\n",
    "\n"
   ]
  },
  {
   "cell_type": "code",
   "execution_count": 2,
   "metadata": {},
   "outputs": [
    {
     "name": "stdout",
     "output_type": "stream",
     "text": [
      "[]\n",
      "['C:\\\\Users\\\\DionWebster\\\\OneDrive - thefreshwatertrust.org\\\\Documents\\\\ArcGIS\\\\Projects\\\\Field NVDI\\\\SentinelRasters\\\\S2A_MSIL1C_20210721T185921_N0301_R013_T10TEN_20210721T230008.SAFE\\\\GRANULE\\\\L1C_T10TEN_A031756_20210721T190557\\\\IMG_DATA\\\\T10TEN_20210721T185921_B01.jp2']\n",
      "rasters list complete C:\\Users\\DionWebster\\OneDrive - thefreshwatertrust.org\\Documents\\ArcGIS\\Projects\\Field NVDI\\SentinelRasters\\S2A_MSIL1C_20210721T185921_N0301_R013_T10TEN_20210721T230008.SAFE\\GRANULE\\L1C_T10TEN_A031756_20210721T190557\\IMG_DATA\\T10TEN_20210721T185921_B01.jp2\n",
      "C:\\Users\\DionWebster\\OneDrive - thefreshwatertrust.org\\Documents\\ArcGIS\\Projects\\Field NVDI\\SentinelRasters\\S2A_MSIL1C_20210721T185921_N0301_R013_T10TEN_20210721T230008.SAFE\\GRANULE\\L1C_T10TEN_A031756_20210721T190557\\IMG_DATA\\T10TEN_20210721T185921_B04.jp2\n",
      "C:\\Users\\DionWebster\\OneDrive - thefreshwatertrust.org\\Documents\\ArcGIS\\Projects\\Field NVDI\\SentinelRasters\\S2A_MSIL1C_20210721T185921_N0301_R013_T10TEN_20210721T230008.SAFE\\GRANULE\\L1C_T10TEN_A031756_20210721T190557\\IMG_DATA\\T10TEN_20210721T185921_B05.jp2\n",
      "C:\\Users\\DionWebster\\OneDrive - thefreshwatertrust.org\\Documents\\ArcGIS\\Projects\\Field NVDI\\SentinelRasters\\S2A_MSIL1C_20210721T185921_N0301_R013_T10TEN_20210721T230008.SAFE\\GRANULE\\L1C_T10TEN_A031756_20210721T190557\\IMG_DATA\\T10TEN_20210721T185921_B08.jp2\n",
      "!!!!!!raster!!!!!!\n",
      "hmmm\n"
     ]
    },
    {
     "data": {
      "text/html": [
       "<h2>Output</h2>a Layer object<h2>Messages</h2>Start Time: Wednesday, August 25, 2021 1:42:40 PM<br/>Succeeded at Wednesday, August 25, 2021 1:42:40 PM (Elapsed Time: 0.17 seconds)<br/><style>.rendered_html td, .rendered_html th {text-align: left;}.rendered_html tbody {border: 1px solid black;}</style>"
      ],
      "text/plain": [
       "<Result 'POU_updated selection 1'>"
      ]
     },
     "execution_count": 2,
     "metadata": {},
     "output_type": "execute_result"
    }
   ],
   "source": [
    "\n",
    "\n",
    "directory = r'C:\\Users\\DionWebster\\OneDrive - thefreshwatertrust.org\\Documents\\ArcGIS\\Projects\\Field NVDI\\SentinelRasters'\n",
    "SentinelFolderList = next(os.walk(directory))[1] # list all sentinel folders \n",
    "for work in SentinelFolderList: #loop creates a list of B01.jp2 path names\n",
    "    directory2 = os.path.join(directory, work)\n",
    "    list_images = glob.glob(directory2 + '*\\GRANULE\\*\\IMG_DATA\\*B01.jp2')\n",
    "    print(list_images)\n",
    "    #for each file with B01.jp2 we loop through and create single string per image and a list\n",
    "    for image in list_images:\n",
    "        rasters = glob.glob(image[:-6]+\"*\")\n",
    "        print('rasters list complete ')\n",
    "        for d in rasters:\n",
    "            if d is rasters[3]:\n",
    "                print(d)\n",
    "                red = d\n",
    "            elif d is rasters[4]:\n",
    "                print(d)\n",
    "                VegRedEdge = d\n",
    "            elif d is rasters[7]:\n",
    "                print(d)\n",
    "                NIR = d\n",
    "                #makes raster\n",
    "                NDVIraster = arcpy.sa.RasterCalculator([red,NIR],['red','NIR'],'(NIR-red)/(NIR+red)')\n",
    "                NDVIraster.save(image[:-6]+\"NDVI.tif\")\n",
    "                list_NDVIs.append(image[:-6]+\"NDVI.tif\")\n",
    "            else:\n",
    "                try:\n",
    "                    os.remove(d)\n",
    "                except OSError:\n",
    "                    print('error deleting ' + d)\n",
    "        print('hmmm')\n",
    "#Mosaic Rasters together\n",
    "arcpy.management.MosaicToNewRaster(list_NDVIs, RasterOutputLocation, \"mosaic.tif\", None, \"32_BIT_FLOAT\", None, 1, \"LAST\", \"FIRST\")\n",
    "#table zonal statistics (mean)\n",
    "with arcpy.EnvManager(outputCoordinateSystem='PROJCS[\"NAD_1983_Oregon_Statewide_Lambert_Feet_Intl\",GEOGCS[\"GCS_North_American_1983\",DATUM[\"D_North_American_1983\",SPHEROID[\"GRS_1980\",6378137.0,298.257222101]],PRIMEM[\"Greenwich\",0.0],UNIT[\"Degree\",0.0174532925199433]],PROJECTION[\"Lambert_Conformal_Conic\"],PARAMETER[\"False_Easting\",1312335.958005249],PARAMETER[\"False_Northing\",0.0],PARAMETER[\"Central_Meridian\",-120.5],PARAMETER[\"Standard_Parallel_1\",43.0],PARAMETER[\"Standard_Parallel_2\",45.5],PARAMETER[\"Latitude_Of_Origin\",41.75],UNIT[\"Foot\",0.3048]]'):\n",
    "    arcpy.ia.ZonalStatisticsAsTable(fields, \"snp_id\", mosaic, ZonalOutputFile, \"DATA\", \"MEAN\", \"CURRENT_SLICE\", 90, \"AUTO_DETECT\")\n",
    "#rename MEAN field\n",
    "arcpy.AlterField_management(ZonalOutputFile, 'MEAN', 'NDVI_Mean','NDVI_Mean') \n",
    "#join mean values table\n",
    "arcpy.management.AddJoin(\"POU_updated selection 1\", \"snp_id\", \"ZonalSt_POU_upd1\", \"snp_id\", \"KEEP_ALL\")\n",
    "print('done')"
   ]
  },
  {
   "cell_type": "code",
   "execution_count": 28,
   "metadata": {
    "scrolled": false
   },
   "outputs": [
    {
     "data": {
      "text/plain": [
       "['C:\\\\Users\\\\DionWebster\\\\OneDrive - thefreshwatertrust.org\\\\Documents\\\\ArcGIS\\\\Projects\\\\Field NVDI\\\\SentinelRasters\\\\S2A_MSIL1C_20210721T185921_N0301_R013_T10TEM_20210721T230008.SAFE\\\\GRANULE\\\\L1C_T10TEM_A031756_20210721T190557\\\\IMG_DATA\\\\T10TEM_20210721T185921_BNDVI.tif', 'C:\\\\Users\\\\DionWebster\\\\OneDrive - thefreshwatertrust.org\\\\Documents\\\\ArcGIS\\\\Projects\\\\Field NVDI\\\\SentinelRasters\\\\S2A_MSIL1C_20210721T185921_N0301_R013_T10TEN_20210721T230008.SAFE\\\\GRANULE\\\\L1C_T10TEN_A031756_20210721T190557\\\\IMG_DATA\\\\T10TEN_20210721T185921_BNDVI.tif']"
      ]
     },
     "execution_count": 28,
     "metadata": {},
     "output_type": "execute_result"
    }
   ],
   "source": [
    "list_NDVIs"
   ]
  },
  {
   "cell_type": "code",
   "execution_count": 31,
   "metadata": {
    "scrolled": true
   },
   "outputs": [
    {
     "data": {
      "text/html": [
       "<h2>Output</h2>C:\\Users\\DionWebster\\OneDrive - thefreshwatertrust.org\\Documents\\ArcGIS\\Projects\\Field NVDI\\OutputRasters\\mosaic.tif<h2>Messages</h2>Start Time: Wednesday, August 25, 2021 1:00:10 PM<br/>Building Pyramids...<br/>Succeeded at Wednesday, August 25, 2021 1:01:01 PM (Elapsed Time: 51.14 seconds)<br/><style>.rendered_html td, .rendered_html th {text-align: left;}.rendered_html tbody {border: 1px solid black;}</style>"
      ],
      "text/plain": [
       "<Result 'C:\\\\Users\\\\DionWebster\\\\OneDrive - thefreshwatertrust.org\\\\Documents\\\\ArcGIS\\\\Projects\\\\Field NVDI\\\\OutputRasters\\\\mosaic.tif'>"
      ]
     },
     "execution_count": 31,
     "metadata": {},
     "output_type": "execute_result"
    }
   ],
   "source": [
    "arcpy.management.MosaicToNewRaster(list_NDVIs, outputlocation, \"mosaic.tif\", None, \"32_BIT_FLOAT\", None, 1, \"LAST\", \"FIRST\")"
   ]
  },
  {
   "cell_type": "code",
   "execution_count": 33,
   "metadata": {},
   "outputs": [],
   "source": [
    "fields = 'G:\\Projects\\Oregon\\Southern_Oregon_Coastal\\Multiple_Subbasins\\171003_18_03_Rogue_W&S_Watershed Restoration Program\\PODandPOU\\NDVI_analysis\\Data.gdb\\POU_updated selection 1'\n",
    "ZonalOutputLocation = r\"C:\\Users\\DionWebster\\OneDrive - thefreshwatertrust.org\\Documents\\ArcGIS\\Projects\\Field NVDI\\Field NVDI.gdb\\ZonalSt_POU_upd1\"\n",
    "#table zonal statistics (mean)\n",
    "with arcpy.EnvManager(outputCoordinateSystem='PROJCS[\"NAD_1983_Oregon_Statewide_Lambert_Feet_Intl\",GEOGCS[\"GCS_North_American_1983\",DATUM[\"D_North_American_1983\",SPHEROID[\"GRS_1980\",6378137.0,298.257222101]],PRIMEM[\"Greenwich\",0.0],UNIT[\"Degree\",0.0174532925199433]],PROJECTION[\"Lambert_Conformal_Conic\"],PARAMETER[\"False_Easting\",1312335.958005249],PARAMETER[\"False_Northing\",0.0],PARAMETER[\"Central_Meridian\",-120.5],PARAMETER[\"Standard_Parallel_1\",43.0],PARAMETER[\"Standard_Parallel_2\",45.5],PARAMETER[\"Latitude_Of_Origin\",41.75],UNIT[\"Foot\",0.3048]]'):\n",
    "    arcpy.ia.ZonalStatisticsAsTable(fields, \"snp_id\", mosaic, ZonalOutputLocation, \"DATA\", \"MEAN\", \"CURRENT_SLICE\", 90, \"AUTO_DETECT\")"
   ]
  },
  {
   "cell_type": "code",
   "execution_count": 36,
   "metadata": {
    "scrolled": true
   },
   "outputs": [
    {
     "data": {
      "text/html": [
       "<h2>Output</h2>C:\\Users\\DionWebster\\OneDrive - thefreshwatertrust.org\\Documents\\ArcGIS\\Projects\\Field NVDI\\Field NVDI.gdb\\ZonalSt_POU_upd1<h2>Messages</h2>Start Time: Wednesday, August 25, 2021 1:14:12 PM<br/>Succeeded at Wednesday, August 25, 2021 1:14:13 PM (Elapsed Time: 0.34 seconds)<br/><style>.rendered_html td, .rendered_html th {text-align: left;}.rendered_html tbody {border: 1px solid black;}</style>"
      ],
      "text/plain": [
       "<Result 'C:\\\\Users\\\\DionWebster\\\\OneDrive - thefreshwatertrust.org\\\\Documents\\\\ArcGIS\\\\Projects\\\\Field NVDI\\\\Field NVDI.gdb\\\\ZonalSt_POU_upd1'>"
      ]
     },
     "execution_count": 36,
     "metadata": {},
     "output_type": "execute_result"
    }
   ],
   "source": [
    "arcpy.AlterField_management(ZonalOutputLocation, 'MEAN', 'NDVI_Mean','NDVI_Mean') #rename MEAN field"
   ]
  },
  {
   "cell_type": "code",
   "execution_count": 38,
   "metadata": {},
   "outputs": [
    {
     "data": {
      "text/html": [
       "<h2>Output</h2>a Layer object<h2>Messages</h2>Start Time: Wednesday, August 25, 2021 1:18:22 PM<br/>Succeeded at Wednesday, August 25, 2021 1:18:22 PM (Elapsed Time: 0.18 seconds)<br/><style>.rendered_html td, .rendered_html th {text-align: left;}.rendered_html tbody {border: 1px solid black;}</style>"
      ],
      "text/plain": [
       "<Result 'POU_updated selection 1'>"
      ]
     },
     "execution_count": 38,
     "metadata": {},
     "output_type": "execute_result"
    }
   ],
   "source": [
    "\n",
    "arcpy.management.AddJoin(\"POU_updated selection 1\", \"snp_id\", \"ZonalSt_POU_upd1\", \"snp_id\", \"KEEP_ALL\")#join mean values table"
   ]
  },
  {
   "cell_type": "code",
   "execution_count": 17,
   "metadata": {
    "collapsed": true
   },
   "outputs": [
    {
     "name": "stdout",
     "output_type": "stream",
     "text": [
      "rasters list complete C:\\Users\\DionWebster\\OneDrive - thefreshwatertrust.org\\Documents\\ArcGIS\\Projects\\Field NVDI\\SentinelRasters\\ZZZZS2A_MSIL1C_20210721T185921_N0301_R013_T10TEM_20210721T230008.SAFE\\GRANULE\\L1C_T10TEM_A031756_20210721T190557\\IMG_DATA\\T10TEM_20210721T185921_B01.jp2\n",
      "no\n",
      "no\n",
      "no\n",
      "C:\\Users\\DionWebster\\OneDrive - thefreshwatertrust.org\\Documents\\ArcGIS\\Projects\\Field NVDI\\SentinelRasters\\ZZZZS2A_MSIL1C_20210721T185921_N0301_R013_T10TEM_20210721T230008.SAFE\\GRANULE\\L1C_T10TEM_A031756_20210721T190557\\IMG_DATA\\T10TEM_20210721T185921_B04.jp2\n",
      "no\n",
      "no\n",
      "no\n",
      "C:\\Users\\DionWebster\\OneDrive - thefreshwatertrust.org\\Documents\\ArcGIS\\Projects\\Field NVDI\\SentinelRasters\\ZZZZS2A_MSIL1C_20210721T185921_N0301_R013_T10TEM_20210721T230008.SAFE\\GRANULE\\L1C_T10TEM_A031756_20210721T190557\\IMG_DATA\\T10TEM_20210721T185921_B08.jp2\n",
      "!!!!!!raster!!!!!!\n",
      "no\n",
      "no\n",
      "no\n",
      "no\n",
      "no\n",
      "hmmm\n"
     ]
    }
   ],
   "source": [
    "#for each file with B01.jp2 we loop through and create single string per image and a list\n",
    "for image in list_images:\n",
    "    rasters = glob.glob(image[:-6]+\"*\")\n",
    "    print('rasters list complete ' + image)\n",
    "\n",
    "\n",
    "#    for image in list_images:\n",
    "#        rasters = glob.glob(image[:-6]+\"*\") #all bands in one folder\n",
    "            #dfile = os.path.dirname(rasters[1])\n",
    "    for d in rasters:\n",
    "        if d is rasters[3]:\n",
    "            print(d)\n",
    "            red = d\n",
    "        elif d is rasters[7]:\n",
    "            print(d)\n",
    "            NIR = d\n",
    "            print('!!!!!!raster!!!!!!')\n",
    "            #arcpy.CompositeBands_management([red, NIR], image[:-6]+\"join.tif\")\n",
    "            #list_composites.append(image[:-6]+\"join.tif\")\n",
    "        else:\n",
    "            print('no')\n",
    "            #print('break')\n",
    "#            try:\n",
    "#                os.remove(d)\n",
    "#            except OSError:\n",
    "#                print('error deleting ' + f)\n",
    "    print('hmmm')\n",
    "#Deleting extra rasters\n"
   ]
  },
  {
   "cell_type": "code",
   "execution_count": null,
   "metadata": {},
   "outputs": [],
   "source": [
    "#Works\n",
    "directory = r'C:\\Users\\DionWebster\\OneDrive - thefreshwatertrust.org\\Documents\\ArcGIS\\Projects\\Field NVDI\\SentinelRasters'\n",
    "#[x[0] for x in os.walk(r'C:\\Users\\DionWebster\\OneDrive - thefreshwatertrust.org\\Documents\\ArcGIS\\Projects\\Field NVDI\\SentinelRasters')]\n",
    "SentinelFolderList = next(os.walk(directory))[1] # list all sentinel folders \n",
    "for work in SentinelFolderList: #loop creates a list of B01.jp2 path names\n",
    "    bleh = os.path.join(directory, work)\n",
    "    list_images = glob.glob(bleh + '*\\GRANULE\\*\\IMG_DATA\\*B01.jp2')\n",
    "    print(list_images)\n",
    "    #for each file with B01.jp2 we loop through and create single string per image and a list\n",
    "    for image in list_images:\n",
    "        rasters = glob.glob(image[:-6]+\"*\")\n",
    "        print('rasters list complete ' + image)\n",
    "\n",
    "\n",
    "    #    for image in list_images:\n",
    "    #        rasters = glob.glob(image[:-6]+\"*\") #all bands in one folder\n",
    "                #dfile = os.path.dirname(rasters[1])\n",
    "        for d in rasters:\n",
    "            if d is rasters[3]:\n",
    "                print(d)\n",
    "                red = d\n",
    "            elif d is rasters[4]:\n",
    "                print(d)\n",
    "                VegRedEdge = d\n",
    "            elif d is rasters[7]:\n",
    "                print(d)\n",
    "                NIR = d\n",
    "                print('!!!!!!raster!!!!!!')\n",
    "                arcpy.CompositeBands_management([red, NIR, VegRedEdge], image[:-6]+\"join.tif\")\n",
    "                list_composites.append(image[:-6]+\"join.tif\")\n",
    "            else:\n",
    "#                print('no')\n",
    "                #print('break')\n",
    "                try:\n",
    "                    os.remove(d)\n",
    "                except OSError:\n",
    "                    print('error deleting ' + d)\n",
    "        print('hmmm')\n",
    "    #Deleting extra rasters"
   ]
  }
 ],
 "metadata": {
  "kernelspec": {
   "display_name": "ArcGISPro",
   "language": "Python",
   "name": "python3"
  },
  "language_info": {
   "file_extension": ".py",
   "name": "python",
   "version": "3"
  }
 },
 "nbformat": 4,
 "nbformat_minor": 2
}
